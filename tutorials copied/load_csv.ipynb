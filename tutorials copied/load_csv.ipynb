{
 "cells": [
  {
   "cell_type": "code",
   "execution_count": 2,
   "metadata": {
    "collapsed": true
   },
   "outputs": [
    {
     "name": "stderr",
     "output_type": "stream",
     "text": [
      "Downloading https://files.grouplens.org/datasets/movielens/ml-latest-small.zip\n",
      "Extracting C:\\Users\\1\\PycharmProjects\\pythonProject4\\tutorials copied\\../../data/MovieLens\\ml-latest-small.zip\n"
     ]
    },
    {
     "data": {
      "text/plain": "Downloading:   0%|          | 0.00/1.18k [00:00<?, ?B/s]",
      "application/vnd.jupyter.widget-view+json": {
       "version_major": 2,
       "version_minor": 0,
       "model_id": "9bcd322a81f24bde9298c3c75d611ecc"
      }
     },
     "metadata": {},
     "output_type": "display_data"
    },
    {
     "data": {
      "text/plain": "Downloading:   0%|          | 0.00/10.2k [00:00<?, ?B/s]",
      "application/vnd.jupyter.widget-view+json": {
       "version_major": 2,
       "version_minor": 0,
       "model_id": "57433167d31e47eb81cac60fc154b911"
      }
     },
     "metadata": {},
     "output_type": "display_data"
    },
    {
     "data": {
      "text/plain": "Downloading:   0%|          | 0.00/612 [00:00<?, ?B/s]",
      "application/vnd.jupyter.widget-view+json": {
       "version_major": 2,
       "version_minor": 0,
       "model_id": "b41051e3e01b4664a7c3ed56e72b1593"
      }
     },
     "metadata": {},
     "output_type": "display_data"
    },
    {
     "data": {
      "text/plain": "Downloading:   0%|          | 0.00/116 [00:00<?, ?B/s]",
      "application/vnd.jupyter.widget-view+json": {
       "version_major": 2,
       "version_minor": 0,
       "model_id": "e1f59ca8f3f2483d9bc9893891e0edfc"
      }
     },
     "metadata": {},
     "output_type": "display_data"
    },
    {
     "data": {
      "text/plain": "Downloading:   0%|          | 0.00/39.3k [00:00<?, ?B/s]",
      "application/vnd.jupyter.widget-view+json": {
       "version_major": 2,
       "version_minor": 0,
       "model_id": "fb9cee6c3b6a4b2d99869d52e0250099"
      }
     },
     "metadata": {},
     "output_type": "display_data"
    },
    {
     "data": {
      "text/plain": "Downloading:   0%|          | 0.00/349 [00:00<?, ?B/s]",
      "application/vnd.jupyter.widget-view+json": {
       "version_major": 2,
       "version_minor": 0,
       "model_id": "4cb7bc7d144f48e18ef5f1b9613c1944"
      }
     },
     "metadata": {},
     "output_type": "display_data"
    },
    {
     "data": {
      "text/plain": "Downloading:   0%|          | 0.00/90.9M [00:00<?, ?B/s]",
      "application/vnd.jupyter.widget-view+json": {
       "version_major": 2,
       "version_minor": 0,
       "model_id": "228e3573fee14ea9abe6f61a32533bdf"
      }
     },
     "metadata": {},
     "output_type": "display_data"
    },
    {
     "data": {
      "text/plain": "Downloading:   0%|          | 0.00/53.0 [00:00<?, ?B/s]",
      "application/vnd.jupyter.widget-view+json": {
       "version_major": 2,
       "version_minor": 0,
       "model_id": "6e077e01d5794c498b92aa0d2f96ea2f"
      }
     },
     "metadata": {},
     "output_type": "display_data"
    },
    {
     "data": {
      "text/plain": "Downloading:   0%|          | 0.00/112 [00:00<?, ?B/s]",
      "application/vnd.jupyter.widget-view+json": {
       "version_major": 2,
       "version_minor": 0,
       "model_id": "acf274ed663b409bb280009b02ebd80d"
      }
     },
     "metadata": {},
     "output_type": "display_data"
    },
    {
     "data": {
      "text/plain": "Downloading:   0%|          | 0.00/466k [00:00<?, ?B/s]",
      "application/vnd.jupyter.widget-view+json": {
       "version_major": 2,
       "version_minor": 0,
       "model_id": "f974fb75199a4eb296cdbfe633b8526f"
      }
     },
     "metadata": {},
     "output_type": "display_data"
    },
    {
     "data": {
      "text/plain": "Downloading:   0%|          | 0.00/350 [00:00<?, ?B/s]",
      "application/vnd.jupyter.widget-view+json": {
       "version_major": 2,
       "version_minor": 0,
       "model_id": "465c78bc2a6d483eaa39011659448a6c"
      }
     },
     "metadata": {},
     "output_type": "display_data"
    },
    {
     "data": {
      "text/plain": "Downloading:   0%|          | 0.00/13.2k [00:00<?, ?B/s]",
      "application/vnd.jupyter.widget-view+json": {
       "version_major": 2,
       "version_minor": 0,
       "model_id": "563e20c386b14898af6a52fd302da824"
      }
     },
     "metadata": {},
     "output_type": "display_data"
    },
    {
     "data": {
      "text/plain": "Downloading:   0%|          | 0.00/232k [00:00<?, ?B/s]",
      "application/vnd.jupyter.widget-view+json": {
       "version_major": 2,
       "version_minor": 0,
       "model_id": "ad639a825d2f474e97cb5b60d4582bcc"
      }
     },
     "metadata": {},
     "output_type": "display_data"
    },
    {
     "data": {
      "text/plain": "Downloading:   0%|          | 0.00/190 [00:00<?, ?B/s]",
      "application/vnd.jupyter.widget-view+json": {
       "version_major": 2,
       "version_minor": 0,
       "model_id": "b5db22d9ef5a41f8b26f86e87003ff38"
      }
     },
     "metadata": {},
     "output_type": "display_data"
    },
    {
     "data": {
      "text/plain": "Batches:   0%|          | 0/305 [00:00<?, ?it/s]",
      "application/vnd.jupyter.widget-view+json": {
       "version_major": 2,
       "version_minor": 0,
       "model_id": "d28987e2ad734b979ce69612158a90a8"
      }
     },
     "metadata": {},
     "output_type": "display_data"
    },
    {
     "name": "stdout",
     "output_type": "stream",
     "text": [
      "HeteroData(\n",
      "  \u001B[1muser\u001B[0m={ num_nodes=610 },\n",
      "  \u001B[1mmovie\u001B[0m={ x=[9742, 404] },\n",
      "  \u001B[1m(user, rates, movie)\u001B[0m={\n",
      "    edge_index=[2, 100836],\n",
      "    edge_label=[100836, 1]\n",
      "  }\n",
      ")\n",
      "HeteroData(\n",
      "  \u001B[1muser\u001B[0m={ num_nodes=610 },\n",
      "  \u001B[1mmovie\u001B[0m={ x=[9742, 404] },\n",
      "  \u001B[1m(user, rates, movie)\u001B[0m={\n",
      "    edge_index=[2, 85712],\n",
      "    edge_label=[85712, 1],\n",
      "    edge_label_index=[2, 85712]\n",
      "  },\n",
      "  \u001B[1m(movie, rev_rates, user)\u001B[0m={ edge_index=[2, 85712] }\n",
      ")\n",
      "HeteroData(\n",
      "  \u001B[1muser\u001B[0m={ num_nodes=610 },\n",
      "  \u001B[1mmovie\u001B[0m={ x=[9742, 404] },\n",
      "  \u001B[1m(user, rates, movie)\u001B[0m={\n",
      "    edge_index=[2, 85712],\n",
      "    edge_label=[5041, 1],\n",
      "    edge_label_index=[2, 5041]\n",
      "  },\n",
      "  \u001B[1m(movie, rev_rates, user)\u001B[0m={ edge_index=[2, 85712] }\n",
      ")\n",
      "HeteroData(\n",
      "  \u001B[1muser\u001B[0m={ num_nodes=610 },\n",
      "  \u001B[1mmovie\u001B[0m={ x=[9742, 404] },\n",
      "  \u001B[1m(user, rates, movie)\u001B[0m={\n",
      "    edge_index=[2, 90753],\n",
      "    edge_label=[10083, 1],\n",
      "    edge_label_index=[2, 10083]\n",
      "  },\n",
      "  \u001B[1m(movie, rev_rates, user)\u001B[0m={ edge_index=[2, 90753] }\n",
      ")\n"
     ]
    }
   ],
   "source": [
    "import os.path as osp\n",
    "\n",
    "import torch\n",
    "import pandas as pd\n",
    "from sentence_transformers import SentenceTransformer\n",
    "\n",
    "from torch_geometric.data import HeteroData, download_url, extract_zip\n",
    "from torch_geometric.transforms import ToUndirected, RandomLinkSplit\n",
    "\n",
    "url = 'https://files.grouplens.org/datasets/movielens/ml-latest-small.zip'\n",
    "root = osp.join(osp.dirname(osp.realpath('C:\\\\Users\\\\1\\\\PycharmProjects\\\\pythonProject4\\\\tutorials copied\\\\data')), '../../data/MovieLens')\n",
    "extract_zip(download_url(url, root), root)\n",
    "movie_path = osp.join(root, 'ml-latest-small', 'movies.csv')\n",
    "rating_path = osp.join(root, 'ml-latest-small', 'ratings.csv')\n",
    "\n",
    "\n",
    "def load_node_csv(path, index_col, encoders=None, **kwargs):\n",
    "    df = pd.read_csv(path, index_col=index_col, **kwargs)\n",
    "    mapping = {index: i for i, index in enumerate(df.index.unique())}\n",
    "\n",
    "    x = None\n",
    "    if encoders is not None:\n",
    "        xs = [encoder(df[col]) for col, encoder in encoders.items()]\n",
    "        x = torch.cat(xs, dim=-1)\n",
    "\n",
    "    return x, mapping\n",
    "\n",
    "\n",
    "def load_edge_csv(path, src_index_col, src_mapping, dst_index_col, dst_mapping,\n",
    "                  encoders=None, **kwargs):\n",
    "    df = pd.read_csv(path, **kwargs)\n",
    "\n",
    "    src = [src_mapping[index] for index in df[src_index_col]]\n",
    "    dst = [dst_mapping[index] for index in df[dst_index_col]]\n",
    "    edge_index = torch.tensor([src, dst])\n",
    "\n",
    "    edge_attr = None\n",
    "    if encoders is not None:\n",
    "        edge_attrs = [encoder(df[col]) for col, encoder in encoders.items()]\n",
    "        edge_attr = torch.cat(edge_attrs, dim=-1)\n",
    "\n",
    "    return edge_index, edge_attr\n",
    "\n",
    "\n",
    "class SequenceEncoder(object):\n",
    "    # The 'SequenceEncoder' encodes raw column strings into embeddings.\n",
    "    def __init__(self, model_name='all-MiniLM-L6-v2', device=None):\n",
    "        self.device = device\n",
    "        self.model = SentenceTransformer(model_name, device=device)\n",
    "\n",
    "    @torch.no_grad()\n",
    "    def __call__(self, df):\n",
    "        x = self.model.encode(df.values, show_progress_bar=True,\n",
    "                              convert_to_tensor=True, device=self.device)\n",
    "        return x.cpu()\n",
    "\n",
    "\n",
    "class GenresEncoder(object):\n",
    "    # The 'GenreEncoder' splits the raw column strings by 'sep' and converts\n",
    "    # individual elements to categorical labels.\n",
    "    def __init__(self, sep='|'):\n",
    "        self.sep = sep\n",
    "\n",
    "    def __call__(self, df):\n",
    "        genres = set(g for col in df.values for g in col.split(self.sep))\n",
    "        mapping = {genre: i for i, genre in enumerate(genres)}\n",
    "\n",
    "        x = torch.zeros(len(df), len(mapping))\n",
    "        for i, col in enumerate(df.values):\n",
    "            for genre in col.split(self.sep):\n",
    "                x[i, mapping[genre]] = 1\n",
    "        return x\n",
    "\n",
    "\n",
    "class IdentityEncoder(object):\n",
    "    # The 'IdentityEncoder' takes the raw column values and converts them to\n",
    "    # PyTorch tensors.\n",
    "    def __init__(self, dtype=None):\n",
    "        self.dtype = dtype\n",
    "\n",
    "    def __call__(self, df):\n",
    "        return torch.from_numpy(df.values).view(-1, 1).to(self.dtype)\n",
    "\n",
    "\n",
    "user_x, user_mapping = load_node_csv(rating_path, index_col='userId')\n",
    "\n",
    "movie_x, movie_mapping = load_node_csv(\n",
    "    movie_path, index_col='movieId', encoders={\n",
    "        'title': SequenceEncoder(),\n",
    "        'genres': GenresEncoder()\n",
    "    })\n",
    "\n",
    "edge_index, edge_label = load_edge_csv(\n",
    "    rating_path,\n",
    "    src_index_col='userId',\n",
    "    src_mapping=user_mapping,\n",
    "    dst_index_col='movieId',\n",
    "    dst_mapping=movie_mapping,\n",
    "    encoders={'rating': IdentityEncoder(dtype=torch.long)},\n",
    ")\n",
    "\n",
    "data = HeteroData()\n",
    "data['user'].num_nodes = len(user_mapping)  # Users do not have any features.\n",
    "data['movie'].x = movie_x\n",
    "data['user', 'rates', 'movie'].edge_index = edge_index\n",
    "data['user', 'rates', 'movie'].edge_label = edge_label\n",
    "print(data)\n",
    "\n",
    "# We can now convert `data` into an appropriate format for training a\n",
    "# graph-based machine learning model:\n",
    "\n",
    "# 1. Add a reverse ('movie', 'rev_rates', 'user') relation for message passing.\n",
    "data = ToUndirected()(data)\n",
    "del data['movie', 'rev_rates', 'user'].edge_label  # Remove \"reverse\" label.\n",
    "\n",
    "# 2. Perform a link-level split into training, validation, and test edges.\n",
    "transform = RandomLinkSplit(\n",
    "    num_val=0.05,\n",
    "    num_test=0.1,\n",
    "    neg_sampling_ratio=0.0,\n",
    "    edge_types=[('user', 'rates', 'movie')],\n",
    "    rev_edge_types=[('movie', 'rev_rates', 'user')],\n",
    ")\n",
    "train_data, val_data, test_data = transform(data)\n",
    "print(train_data)\n",
    "print(val_data)\n",
    "print(test_data)"
   ]
  },
  {
   "cell_type": "code",
   "execution_count": 10,
   "outputs": [
    {
     "data": {
      "text/plain": "Batches:   0%|          | 0/305 [00:00<?, ?it/s]",
      "application/vnd.jupyter.widget-view+json": {
       "version_major": 2,
       "version_minor": 0,
       "model_id": "3aba06f99a864192b2053f75e3018b39"
      }
     },
     "metadata": {},
     "output_type": "display_data"
    }
   ],
   "source": [
    "movie_x, movie_mapping = load_node_csv(\n",
    "    movie_path, index_col='movieId', encoders={\n",
    "        'title': SequenceEncoder(),\n",
    "        'genres': GenresEncoder()\n",
    "    })"
   ],
   "metadata": {
    "collapsed": false,
    "pycharm": {
     "name": "#%%\n"
    }
   }
  },
  {
   "cell_type": "code",
   "execution_count": 3,
   "outputs": [
    {
     "data": {
      "text/plain": "(None,\n {1: 0,\n  2: 1,\n  3: 2,\n  4: 3,\n  5: 4,\n  6: 5,\n  7: 6,\n  8: 7,\n  9: 8,\n  10: 9,\n  11: 10,\n  12: 11,\n  13: 12,\n  14: 13,\n  15: 14,\n  16: 15,\n  17: 16,\n  18: 17,\n  19: 18,\n  20: 19,\n  21: 20,\n  22: 21,\n  23: 22,\n  24: 23,\n  25: 24,\n  26: 25,\n  27: 26,\n  28: 27,\n  29: 28,\n  30: 29,\n  31: 30,\n  32: 31,\n  33: 32,\n  34: 33,\n  35: 34,\n  36: 35,\n  37: 36,\n  38: 37,\n  39: 38,\n  40: 39,\n  41: 40,\n  42: 41,\n  43: 42,\n  44: 43,\n  45: 44,\n  46: 45,\n  47: 46,\n  48: 47,\n  49: 48,\n  50: 49,\n  51: 50,\n  52: 51,\n  53: 52,\n  54: 53,\n  55: 54,\n  56: 55,\n  57: 56,\n  58: 57,\n  59: 58,\n  60: 59,\n  61: 60,\n  62: 61,\n  63: 62,\n  64: 63,\n  65: 64,\n  66: 65,\n  67: 66,\n  68: 67,\n  69: 68,\n  70: 69,\n  71: 70,\n  72: 71,\n  73: 72,\n  74: 73,\n  75: 74,\n  76: 75,\n  77: 76,\n  78: 77,\n  79: 78,\n  80: 79,\n  81: 80,\n  82: 81,\n  83: 82,\n  84: 83,\n  85: 84,\n  86: 85,\n  87: 86,\n  88: 87,\n  89: 88,\n  90: 89,\n  91: 90,\n  92: 91,\n  93: 92,\n  94: 93,\n  95: 94,\n  96: 95,\n  97: 96,\n  98: 97,\n  99: 98,\n  100: 99,\n  101: 100,\n  102: 101,\n  103: 102,\n  104: 103,\n  105: 104,\n  106: 105,\n  107: 106,\n  108: 107,\n  109: 108,\n  110: 109,\n  111: 110,\n  112: 111,\n  113: 112,\n  114: 113,\n  115: 114,\n  116: 115,\n  117: 116,\n  118: 117,\n  119: 118,\n  120: 119,\n  121: 120,\n  122: 121,\n  123: 122,\n  124: 123,\n  125: 124,\n  126: 125,\n  127: 126,\n  128: 127,\n  129: 128,\n  130: 129,\n  131: 130,\n  132: 131,\n  133: 132,\n  134: 133,\n  135: 134,\n  136: 135,\n  137: 136,\n  138: 137,\n  139: 138,\n  140: 139,\n  141: 140,\n  142: 141,\n  143: 142,\n  144: 143,\n  145: 144,\n  146: 145,\n  147: 146,\n  148: 147,\n  149: 148,\n  150: 149,\n  151: 150,\n  152: 151,\n  153: 152,\n  154: 153,\n  155: 154,\n  156: 155,\n  157: 156,\n  158: 157,\n  159: 158,\n  160: 159,\n  161: 160,\n  162: 161,\n  163: 162,\n  164: 163,\n  165: 164,\n  166: 165,\n  167: 166,\n  168: 167,\n  169: 168,\n  170: 169,\n  171: 170,\n  172: 171,\n  173: 172,\n  174: 173,\n  175: 174,\n  176: 175,\n  177: 176,\n  178: 177,\n  179: 178,\n  180: 179,\n  181: 180,\n  182: 181,\n  183: 182,\n  184: 183,\n  185: 184,\n  186: 185,\n  187: 186,\n  188: 187,\n  189: 188,\n  190: 189,\n  191: 190,\n  192: 191,\n  193: 192,\n  194: 193,\n  195: 194,\n  196: 195,\n  197: 196,\n  198: 197,\n  199: 198,\n  200: 199,\n  201: 200,\n  202: 201,\n  203: 202,\n  204: 203,\n  205: 204,\n  206: 205,\n  207: 206,\n  208: 207,\n  209: 208,\n  210: 209,\n  211: 210,\n  212: 211,\n  213: 212,\n  214: 213,\n  215: 214,\n  216: 215,\n  217: 216,\n  218: 217,\n  219: 218,\n  220: 219,\n  221: 220,\n  222: 221,\n  223: 222,\n  224: 223,\n  225: 224,\n  226: 225,\n  227: 226,\n  228: 227,\n  229: 228,\n  230: 229,\n  231: 230,\n  232: 231,\n  233: 232,\n  234: 233,\n  235: 234,\n  236: 235,\n  237: 236,\n  238: 237,\n  239: 238,\n  240: 239,\n  241: 240,\n  242: 241,\n  243: 242,\n  244: 243,\n  245: 244,\n  246: 245,\n  247: 246,\n  248: 247,\n  249: 248,\n  250: 249,\n  251: 250,\n  252: 251,\n  253: 252,\n  254: 253,\n  255: 254,\n  256: 255,\n  257: 256,\n  258: 257,\n  259: 258,\n  260: 259,\n  261: 260,\n  262: 261,\n  263: 262,\n  264: 263,\n  265: 264,\n  266: 265,\n  267: 266,\n  268: 267,\n  269: 268,\n  270: 269,\n  271: 270,\n  272: 271,\n  273: 272,\n  274: 273,\n  275: 274,\n  276: 275,\n  277: 276,\n  278: 277,\n  279: 278,\n  280: 279,\n  281: 280,\n  282: 281,\n  283: 282,\n  284: 283,\n  285: 284,\n  286: 285,\n  287: 286,\n  288: 287,\n  289: 288,\n  290: 289,\n  291: 290,\n  292: 291,\n  293: 292,\n  294: 293,\n  295: 294,\n  296: 295,\n  297: 296,\n  298: 297,\n  299: 298,\n  300: 299,\n  301: 300,\n  302: 301,\n  303: 302,\n  304: 303,\n  305: 304,\n  306: 305,\n  307: 306,\n  308: 307,\n  309: 308,\n  310: 309,\n  311: 310,\n  312: 311,\n  313: 312,\n  314: 313,\n  315: 314,\n  316: 315,\n  317: 316,\n  318: 317,\n  319: 318,\n  320: 319,\n  321: 320,\n  322: 321,\n  323: 322,\n  324: 323,\n  325: 324,\n  326: 325,\n  327: 326,\n  328: 327,\n  329: 328,\n  330: 329,\n  331: 330,\n  332: 331,\n  333: 332,\n  334: 333,\n  335: 334,\n  336: 335,\n  337: 336,\n  338: 337,\n  339: 338,\n  340: 339,\n  341: 340,\n  342: 341,\n  343: 342,\n  344: 343,\n  345: 344,\n  346: 345,\n  347: 346,\n  348: 347,\n  349: 348,\n  350: 349,\n  351: 350,\n  352: 351,\n  353: 352,\n  354: 353,\n  355: 354,\n  356: 355,\n  357: 356,\n  358: 357,\n  359: 358,\n  360: 359,\n  361: 360,\n  362: 361,\n  363: 362,\n  364: 363,\n  365: 364,\n  366: 365,\n  367: 366,\n  368: 367,\n  369: 368,\n  370: 369,\n  371: 370,\n  372: 371,\n  373: 372,\n  374: 373,\n  375: 374,\n  376: 375,\n  377: 376,\n  378: 377,\n  379: 378,\n  380: 379,\n  381: 380,\n  382: 381,\n  383: 382,\n  384: 383,\n  385: 384,\n  386: 385,\n  387: 386,\n  388: 387,\n  389: 388,\n  390: 389,\n  391: 390,\n  392: 391,\n  393: 392,\n  394: 393,\n  395: 394,\n  396: 395,\n  397: 396,\n  398: 397,\n  399: 398,\n  400: 399,\n  401: 400,\n  402: 401,\n  403: 402,\n  404: 403,\n  405: 404,\n  406: 405,\n  407: 406,\n  408: 407,\n  409: 408,\n  410: 409,\n  411: 410,\n  412: 411,\n  413: 412,\n  414: 413,\n  415: 414,\n  416: 415,\n  417: 416,\n  418: 417,\n  419: 418,\n  420: 419,\n  421: 420,\n  422: 421,\n  423: 422,\n  424: 423,\n  425: 424,\n  426: 425,\n  427: 426,\n  428: 427,\n  429: 428,\n  430: 429,\n  431: 430,\n  432: 431,\n  433: 432,\n  434: 433,\n  435: 434,\n  436: 435,\n  437: 436,\n  438: 437,\n  439: 438,\n  440: 439,\n  441: 440,\n  442: 441,\n  443: 442,\n  444: 443,\n  445: 444,\n  446: 445,\n  447: 446,\n  448: 447,\n  449: 448,\n  450: 449,\n  451: 450,\n  452: 451,\n  453: 452,\n  454: 453,\n  455: 454,\n  456: 455,\n  457: 456,\n  458: 457,\n  459: 458,\n  460: 459,\n  461: 460,\n  462: 461,\n  463: 462,\n  464: 463,\n  465: 464,\n  466: 465,\n  467: 466,\n  468: 467,\n  469: 468,\n  470: 469,\n  471: 470,\n  472: 471,\n  473: 472,\n  474: 473,\n  475: 474,\n  476: 475,\n  477: 476,\n  478: 477,\n  479: 478,\n  480: 479,\n  481: 480,\n  482: 481,\n  483: 482,\n  484: 483,\n  485: 484,\n  486: 485,\n  487: 486,\n  488: 487,\n  489: 488,\n  490: 489,\n  491: 490,\n  492: 491,\n  493: 492,\n  494: 493,\n  495: 494,\n  496: 495,\n  497: 496,\n  498: 497,\n  499: 498,\n  500: 499,\n  501: 500,\n  502: 501,\n  503: 502,\n  504: 503,\n  505: 504,\n  506: 505,\n  507: 506,\n  508: 507,\n  509: 508,\n  510: 509,\n  511: 510,\n  512: 511,\n  513: 512,\n  514: 513,\n  515: 514,\n  516: 515,\n  517: 516,\n  518: 517,\n  519: 518,\n  520: 519,\n  521: 520,\n  522: 521,\n  523: 522,\n  524: 523,\n  525: 524,\n  526: 525,\n  527: 526,\n  528: 527,\n  529: 528,\n  530: 529,\n  531: 530,\n  532: 531,\n  533: 532,\n  534: 533,\n  535: 534,\n  536: 535,\n  537: 536,\n  538: 537,\n  539: 538,\n  540: 539,\n  541: 540,\n  542: 541,\n  543: 542,\n  544: 543,\n  545: 544,\n  546: 545,\n  547: 546,\n  548: 547,\n  549: 548,\n  550: 549,\n  551: 550,\n  552: 551,\n  553: 552,\n  554: 553,\n  555: 554,\n  556: 555,\n  557: 556,\n  558: 557,\n  559: 558,\n  560: 559,\n  561: 560,\n  562: 561,\n  563: 562,\n  564: 563,\n  565: 564,\n  566: 565,\n  567: 566,\n  568: 567,\n  569: 568,\n  570: 569,\n  571: 570,\n  572: 571,\n  573: 572,\n  574: 573,\n  575: 574,\n  576: 575,\n  577: 576,\n  578: 577,\n  579: 578,\n  580: 579,\n  581: 580,\n  582: 581,\n  583: 582,\n  584: 583,\n  585: 584,\n  586: 585,\n  587: 586,\n  588: 587,\n  589: 588,\n  590: 589,\n  591: 590,\n  592: 591,\n  593: 592,\n  594: 593,\n  595: 594,\n  596: 595,\n  597: 596,\n  598: 597,\n  599: 598,\n  600: 599,\n  601: 600,\n  602: 601,\n  603: 602,\n  604: 603,\n  605: 604,\n  606: 605,\n  607: 606,\n  608: 607,\n  609: 608,\n  610: 609})"
     },
     "execution_count": 3,
     "metadata": {},
     "output_type": "execute_result"
    }
   ],
   "source": [
    "load_node_csv(rating_path, index_col='userId')"
   ],
   "metadata": {
    "collapsed": false,
    "pycharm": {
     "name": "#%%\n"
    }
   }
  },
  {
   "cell_type": "code",
   "execution_count": 9,
   "outputs": [
    {
     "data": {
      "text/plain": "tensor([[   0,    0,    0,  ...,  609,  609,  609],\n        [   0,    2,    5,  ..., 9462, 9463, 9503]])"
     },
     "execution_count": 9,
     "metadata": {},
     "output_type": "execute_result"
    }
   ],
   "source": [
    "edge_index, edge_label = load_edge_csv(\n",
    "    rating_path,\n",
    "    src_index_col='userId',\n",
    "    src_mapping=user_mapping,\n",
    "    dst_index_col='movieId',\n",
    "    dst_mapping=movie_mapping,\n",
    "    encoders={'rating': IdentityEncoder(dtype=torch.long)},\n",
    ")\n",
    "edge_index"
   ],
   "metadata": {
    "collapsed": false,
    "pycharm": {
     "name": "#%%\n"
    }
   }
  }
 ],
 "metadata": {
  "kernelspec": {
   "display_name": "Python 3",
   "language": "python",
   "name": "python3"
  },
  "language_info": {
   "codemirror_mode": {
    "name": "ipython",
    "version": 2
   },
   "file_extension": ".py",
   "mimetype": "text/x-python",
   "name": "python",
   "nbconvert_exporter": "python",
   "pygments_lexer": "ipython2",
   "version": "2.7.6"
  }
 },
 "nbformat": 4,
 "nbformat_minor": 0
}