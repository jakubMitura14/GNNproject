{
 "cells": [
  {
   "cell_type": "code",
   "execution_count": 13,
   "metadata": {
    "collapsed": true
   },
   "outputs": [
    {
     "name": "stderr",
     "output_type": "stream",
     "text": [
      "WARNING: You are using pip version 21.1.2; however, version 21.3.1 is available.\n",
      "You should consider upgrading via the 'C:\\Users\\1\\PycharmProjects\\pythonProject4\\venv\\Scripts\\python.exe -m pip install --upgrade pip' command.\n",
      "WARNING: You are using pip version 21.1.2; however, version 21.3.1 is available.\n",
      "You should consider upgrading via the 'C:\\Users\\1\\PycharmProjects\\pythonProject4\\venv\\Scripts\\python.exe -m pip install --upgrade pip' command.\n",
      "WARNING: You are using pip version 21.1.2; however, version 21.3.1 is available.\n",
      "You should consider upgrading via the 'C:\\Users\\1\\PycharmProjects\\pythonProject4\\venv\\Scripts\\python.exe -m pip install --upgrade pip' command.\n",
      "WARNING: You are using pip version 21.1.2; however, version 21.3.1 is available.\n",
      "You should consider upgrading via the 'C:\\Users\\1\\PycharmProjects\\pythonProject4\\venv\\Scripts\\python.exe -m pip install --upgrade pip' command.\n"
     ]
    },
    {
     "name": "stdout",
     "output_type": "stream",
     "text": [
      "Requirement already satisfied: sentence-transformers in c:\\users\\1\\pycharmprojects\\pythonproject4\\venv\\lib\\site-packages (2.1.0)\n",
      "Requirement already satisfied: sentencepiece in c:\\users\\1\\pycharmprojects\\pythonproject4\\venv\\lib\\site-packages (from sentence-transformers) (0.1.96)\n",
      "Requirement already satisfied: torch>=1.6.0 in c:\\users\\1\\pycharmprojects\\pythonproject4\\venv\\lib\\site-packages (from sentence-transformers) (1.10.1+cu113)\n",
      "Requirement already satisfied: tokenizers>=0.10.3 in c:\\users\\1\\pycharmprojects\\pythonproject4\\venv\\lib\\site-packages (from sentence-transformers) (0.10.3)\n",
      "Requirement already satisfied: scikit-learn in c:\\users\\1\\pycharmprojects\\pythonproject4\\venv\\lib\\site-packages (from sentence-transformers) (1.0.2)\n",
      "Requirement already satisfied: scipy in c:\\users\\1\\pycharmprojects\\pythonproject4\\venv\\lib\\site-packages (from sentence-transformers) (1.7.3)\n",
      "Requirement already satisfied: nltk in c:\\users\\1\\pycharmprojects\\pythonproject4\\venv\\lib\\site-packages (from sentence-transformers) (3.6.7)\n",
      "Requirement already satisfied: huggingface-hub in c:\\users\\1\\pycharmprojects\\pythonproject4\\venv\\lib\\site-packages (from sentence-transformers) (0.2.1)\n",
      "Requirement already satisfied: tqdm in c:\\users\\1\\pycharmprojects\\pythonproject4\\venv\\lib\\site-packages (from sentence-transformers) (4.62.3)\n",
      "Requirement already satisfied: torchvision in c:\\users\\1\\pycharmprojects\\pythonproject4\\venv\\lib\\site-packages (from sentence-transformers) (0.11.2+cu113)\n",
      "Requirement already satisfied: transformers<5.0.0,>=4.6.0 in c:\\users\\1\\pycharmprojects\\pythonproject4\\venv\\lib\\site-packages (from sentence-transformers) (4.15.0)\n",
      "Requirement already satisfied: numpy in c:\\users\\1\\pycharmprojects\\pythonproject4\\venv\\lib\\site-packages (from sentence-transformers) (1.21.5)\n",
      "Requirement already satisfied: typing-extensions in c:\\users\\1\\pycharmprojects\\pythonproject4\\venv\\lib\\site-packages (from torch>=1.6.0->sentence-transformers) (4.0.1)\n",
      "Requirement already satisfied: filelock in c:\\users\\1\\pycharmprojects\\pythonproject4\\venv\\lib\\site-packages (from transformers<5.0.0,>=4.6.0->sentence-transformers) (3.4.2)\n",
      "Requirement already satisfied: packaging>=20.0 in c:\\users\\1\\pycharmprojects\\pythonproject4\\venv\\lib\\site-packages (from transformers<5.0.0,>=4.6.0->sentence-transformers) (21.3)\n",
      "Requirement already satisfied: regex!=2019.12.17 in c:\\users\\1\\pycharmprojects\\pythonproject4\\venv\\lib\\site-packages (from transformers<5.0.0,>=4.6.0->sentence-transformers) (2021.11.10)\n",
      "Requirement already satisfied: requests in c:\\users\\1\\pycharmprojects\\pythonproject4\\venv\\lib\\site-packages (from transformers<5.0.0,>=4.6.0->sentence-transformers) (2.26.0)\n",
      "Requirement already satisfied: pyyaml>=5.1 in c:\\users\\1\\pycharmprojects\\pythonproject4\\venv\\lib\\site-packages (from transformers<5.0.0,>=4.6.0->sentence-transformers) (6.0)\n",
      "Requirement already satisfied: sacremoses in c:\\users\\1\\pycharmprojects\\pythonproject4\\venv\\lib\\site-packages (from transformers<5.0.0,>=4.6.0->sentence-transformers) (0.0.46)\n",
      "Requirement already satisfied: pyparsing!=3.0.5,>=2.0.2 in c:\\users\\1\\pycharmprojects\\pythonproject4\\venv\\lib\\site-packages (from packaging>=20.0->transformers<5.0.0,>=4.6.0->sentence-transformers) (3.0.6)\n",
      "Requirement already satisfied: colorama in c:\\users\\1\\pycharmprojects\\pythonproject4\\venv\\lib\\site-packages (from tqdm->sentence-transformers) (0.4.4)\n",
      "Requirement already satisfied: joblib in c:\\users\\1\\pycharmprojects\\pythonproject4\\venv\\lib\\site-packages (from nltk->sentence-transformers) (1.1.0)\n",
      "Requirement already satisfied: click in c:\\users\\1\\pycharmprojects\\pythonproject4\\venv\\lib\\site-packages (from nltk->sentence-transformers) (8.0.3)\n",
      "Requirement already satisfied: charset-normalizer~=2.0.0 in c:\\users\\1\\pycharmprojects\\pythonproject4\\venv\\lib\\site-packages (from requests->transformers<5.0.0,>=4.6.0->sentence-transformers) (2.0.9)\n",
      "Requirement already satisfied: urllib3<1.27,>=1.21.1 in c:\\users\\1\\pycharmprojects\\pythonproject4\\venv\\lib\\site-packages (from requests->transformers<5.0.0,>=4.6.0->sentence-transformers) (1.26.7)\n",
      "Requirement already satisfied: idna<4,>=2.5 in c:\\users\\1\\pycharmprojects\\pythonproject4\\venv\\lib\\site-packages (from requests->transformers<5.0.0,>=4.6.0->sentence-transformers) (3.3)\n",
      "Requirement already satisfied: certifi>=2017.4.17 in c:\\users\\1\\pycharmprojects\\pythonproject4\\venv\\lib\\site-packages (from requests->transformers<5.0.0,>=4.6.0->sentence-transformers) (2021.10.8)\n",
      "Requirement already satisfied: six in c:\\users\\1\\pycharmprojects\\pythonproject4\\venv\\lib\\site-packages (from sacremoses->transformers<5.0.0,>=4.6.0->sentence-transformers) (1.16.0)\n",
      "Requirement already satisfied: threadpoolctl>=2.0.0 in c:\\users\\1\\pycharmprojects\\pythonproject4\\venv\\lib\\site-packages (from scikit-learn->sentence-transformers) (3.0.0)\n",
      "Requirement already satisfied: pillow!=8.3.0,>=5.3.0 in c:\\users\\1\\pycharmprojects\\pythonproject4\\venv\\lib\\site-packages (from torchvision->sentence-transformers) (8.4.0)\n"
     ]
    },
    {
     "name": "stderr",
     "output_type": "stream",
     "text": [
      "WARNING: You are using pip version 21.1.2; however, version 21.3.1 is available.\n",
      "You should consider upgrading via the 'C:\\Users\\1\\PycharmProjects\\pythonProject4\\venv\\Scripts\\python.exe -m pip install --upgrade pip' command.\n"
     ]
    }
   ],
   "source": [
    "# Install required packages.\n",
    "!pip install -q torch-scatter -f https://data.pyg.org/whl/torch-1.10.0+cu113.html\n",
    "!pip install -q torch-sparse -f https://data.pyg.org/whl/torch-1.10.0+cu113.html\n",
    "!pip install -q torch-cluster -f https://data.pyg.org/whl/torch-1.10.0+cu113.html\n",
    "!pip install -q git+https://github.com/pyg-team/pytorch_geometric.git\n",
    "!pip install sentence-transformers\n",
    "import torch\n",
    "import pandas as pd\n",
    "from torch_geometric.data import HeteroData, download_url, extract_zip\n",
    "from torch_geometric.transforms import ToUndirected, RandomLinkSplit\n",
    "# Helper functions for visualization.\n",
    "%matplotlib inline"
   ]
  },
  {
   "cell_type": "code",
   "execution_count": 14,
   "outputs": [
    {
     "data": {
      "text/plain": "         Gender  Age at Initial Pathologic Diagnosis  ER Status  PR Status  \\\nA2-A0CM       1                                   40        0.0          0   \nA2-A0D2       1                                   45        0.0          0   \nA2-A0EQ       1                                   64        0.0          0   \nA2-A0EV       1                                   80        1.0          1   \nA2-A0EX       1                                   46        1.0          1   \n...         ...                                  ...        ...        ...   \nC8-A138       1                                   54        1.0          0   \nD8-A142       1                                   74        0.0          0   \nE2-A154       1                                   68        1.0          1   \nE2-A158       1                                   43        0.0          0   \nE2-A15A       1                                   45        1.0          1   \n\n         HER2 Final Status Tumor Node Metastasis  AJCC Stage Converted Stage  \\\nA2-A0CM                0.0     2    0          0   Stage IIA       Stage IIA   \nA2-A0D2                0.0     2    0          0   Stage IIB       Stage IIA   \nA2-A0EQ                1.0     2    0          0   Stage IIA       Stage IIA   \nA2-A0EV                0.0     1    0          0    Stage IA         Stage I   \nA2-A0EX                0.0     3    0          0   Stage IIB       Stage IIB   \n...                    ...   ...  ...        ...         ...             ...   \nC8-A138                1.0     2    2          0   Stage III      Stage IIIA   \nD8-A142                0.0     3    0          0   Stage IIB       Stage IIB   \nE2-A154                0.0     1    0          0     Stage I         Stage I   \nE2-A158                0.0     1    1          0   Stage IIA       Stage IIA   \nE2-A15A                0.0     2    3          0  Stage IIIC      Stage IIIC   \n\n         ... NP_001193600 NP_061134  NP_932347  NP_003593  NP_997203  \\\nA2-A0CM  ...          NaN       NaN   1.153614        NaN        NaN   \nA2-A0D2  ...     0.919136 -1.648856   0.832649        NaN  -8.324969   \nA2-A0EQ  ...    -0.801685       NaN        NaN    3.80231  -6.373934   \nA2-A0EV  ...    -4.966177 -1.471027        NaN  -0.474013 -12.278546   \nA2-A0EX  ...      1.45149 -2.018981   0.877456        NaN        NaN   \n...      ...          ...       ...        ...        ...        ...   \nC8-A138  ...    -3.250913  1.711825  -0.248402        NaN   4.707022   \nD8-A142  ...    -5.107629  -0.97598        NaN   2.508629  -12.33711   \nE2-A154  ...    -3.386203 -2.328692  -2.806642        NaN  -4.733495   \nE2-A158  ...    -0.638364  0.051811   2.509998   7.067839        NaN   \nE2-A15A  ...     1.934078  0.234132   0.949899   2.725896        NaN   \n\n         NP_001191293 NP_775791  NP_004065  NP_068752  NP_219494  \nA2-A0CM           NaN       NaN        NaN        NaN        NaN  \nA2-A0D2     -4.679219       NaN   -1.10665        NaN  -6.941181  \nA2-A0EQ      -1.12316       NaN        NaN        NaN        NaN  \nA2-A0EV    -10.337729 -0.653251        NaN        NaN        NaN  \nA2-A0EX     -6.101005       NaN  -1.726336        NaN        NaN  \n...               ...       ...        ...        ...        ...  \nC8-A138      4.107251  -3.20337   1.971481        NaN        NaN  \nD8-A142      -9.54653 -4.066584        NaN        NaN        NaN  \nE2-A154     -9.584499 -4.786183  -3.103949        NaN        NaN  \nE2-A158      0.378972       NaN        NaN   0.665797        NaN  \nE2-A15A     -3.863634       NaN        NaN   4.072432        NaN  \n\n[80 rows x 12579 columns]",
      "text/html": "<div>\n<style scoped>\n    .dataframe tbody tr th:only-of-type {\n        vertical-align: middle;\n    }\n\n    .dataframe tbody tr th {\n        vertical-align: top;\n    }\n\n    .dataframe thead th {\n        text-align: right;\n    }\n</style>\n<table border=\"1\" class=\"dataframe\">\n  <thead>\n    <tr style=\"text-align: right;\">\n      <th></th>\n      <th>Gender</th>\n      <th>Age at Initial Pathologic Diagnosis</th>\n      <th>ER Status</th>\n      <th>PR Status</th>\n      <th>HER2 Final Status</th>\n      <th>Tumor</th>\n      <th>Node</th>\n      <th>Metastasis</th>\n      <th>AJCC Stage</th>\n      <th>Converted Stage</th>\n      <th>...</th>\n      <th>NP_001193600</th>\n      <th>NP_061134</th>\n      <th>NP_932347</th>\n      <th>NP_003593</th>\n      <th>NP_997203</th>\n      <th>NP_001191293</th>\n      <th>NP_775791</th>\n      <th>NP_004065</th>\n      <th>NP_068752</th>\n      <th>NP_219494</th>\n    </tr>\n  </thead>\n  <tbody>\n    <tr>\n      <th>A2-A0CM</th>\n      <td>1</td>\n      <td>40</td>\n      <td>0.0</td>\n      <td>0</td>\n      <td>0.0</td>\n      <td>2</td>\n      <td>0</td>\n      <td>0</td>\n      <td>Stage IIA</td>\n      <td>Stage IIA</td>\n      <td>...</td>\n      <td>NaN</td>\n      <td>NaN</td>\n      <td>1.153614</td>\n      <td>NaN</td>\n      <td>NaN</td>\n      <td>NaN</td>\n      <td>NaN</td>\n      <td>NaN</td>\n      <td>NaN</td>\n      <td>NaN</td>\n    </tr>\n    <tr>\n      <th>A2-A0D2</th>\n      <td>1</td>\n      <td>45</td>\n      <td>0.0</td>\n      <td>0</td>\n      <td>0.0</td>\n      <td>2</td>\n      <td>0</td>\n      <td>0</td>\n      <td>Stage IIB</td>\n      <td>Stage IIA</td>\n      <td>...</td>\n      <td>0.919136</td>\n      <td>-1.648856</td>\n      <td>0.832649</td>\n      <td>NaN</td>\n      <td>-8.324969</td>\n      <td>-4.679219</td>\n      <td>NaN</td>\n      <td>-1.10665</td>\n      <td>NaN</td>\n      <td>-6.941181</td>\n    </tr>\n    <tr>\n      <th>A2-A0EQ</th>\n      <td>1</td>\n      <td>64</td>\n      <td>0.0</td>\n      <td>0</td>\n      <td>1.0</td>\n      <td>2</td>\n      <td>0</td>\n      <td>0</td>\n      <td>Stage IIA</td>\n      <td>Stage IIA</td>\n      <td>...</td>\n      <td>-0.801685</td>\n      <td>NaN</td>\n      <td>NaN</td>\n      <td>3.80231</td>\n      <td>-6.373934</td>\n      <td>-1.12316</td>\n      <td>NaN</td>\n      <td>NaN</td>\n      <td>NaN</td>\n      <td>NaN</td>\n    </tr>\n    <tr>\n      <th>A2-A0EV</th>\n      <td>1</td>\n      <td>80</td>\n      <td>1.0</td>\n      <td>1</td>\n      <td>0.0</td>\n      <td>1</td>\n      <td>0</td>\n      <td>0</td>\n      <td>Stage IA</td>\n      <td>Stage I</td>\n      <td>...</td>\n      <td>-4.966177</td>\n      <td>-1.471027</td>\n      <td>NaN</td>\n      <td>-0.474013</td>\n      <td>-12.278546</td>\n      <td>-10.337729</td>\n      <td>-0.653251</td>\n      <td>NaN</td>\n      <td>NaN</td>\n      <td>NaN</td>\n    </tr>\n    <tr>\n      <th>A2-A0EX</th>\n      <td>1</td>\n      <td>46</td>\n      <td>1.0</td>\n      <td>1</td>\n      <td>0.0</td>\n      <td>3</td>\n      <td>0</td>\n      <td>0</td>\n      <td>Stage IIB</td>\n      <td>Stage IIB</td>\n      <td>...</td>\n      <td>1.45149</td>\n      <td>-2.018981</td>\n      <td>0.877456</td>\n      <td>NaN</td>\n      <td>NaN</td>\n      <td>-6.101005</td>\n      <td>NaN</td>\n      <td>-1.726336</td>\n      <td>NaN</td>\n      <td>NaN</td>\n    </tr>\n    <tr>\n      <th>...</th>\n      <td>...</td>\n      <td>...</td>\n      <td>...</td>\n      <td>...</td>\n      <td>...</td>\n      <td>...</td>\n      <td>...</td>\n      <td>...</td>\n      <td>...</td>\n      <td>...</td>\n      <td>...</td>\n      <td>...</td>\n      <td>...</td>\n      <td>...</td>\n      <td>...</td>\n      <td>...</td>\n      <td>...</td>\n      <td>...</td>\n      <td>...</td>\n      <td>...</td>\n      <td>...</td>\n    </tr>\n    <tr>\n      <th>C8-A138</th>\n      <td>1</td>\n      <td>54</td>\n      <td>1.0</td>\n      <td>0</td>\n      <td>1.0</td>\n      <td>2</td>\n      <td>2</td>\n      <td>0</td>\n      <td>Stage III</td>\n      <td>Stage IIIA</td>\n      <td>...</td>\n      <td>-3.250913</td>\n      <td>1.711825</td>\n      <td>-0.248402</td>\n      <td>NaN</td>\n      <td>4.707022</td>\n      <td>4.107251</td>\n      <td>-3.20337</td>\n      <td>1.971481</td>\n      <td>NaN</td>\n      <td>NaN</td>\n    </tr>\n    <tr>\n      <th>D8-A142</th>\n      <td>1</td>\n      <td>74</td>\n      <td>0.0</td>\n      <td>0</td>\n      <td>0.0</td>\n      <td>3</td>\n      <td>0</td>\n      <td>0</td>\n      <td>Stage IIB</td>\n      <td>Stage IIB</td>\n      <td>...</td>\n      <td>-5.107629</td>\n      <td>-0.97598</td>\n      <td>NaN</td>\n      <td>2.508629</td>\n      <td>-12.33711</td>\n      <td>-9.54653</td>\n      <td>-4.066584</td>\n      <td>NaN</td>\n      <td>NaN</td>\n      <td>NaN</td>\n    </tr>\n    <tr>\n      <th>E2-A154</th>\n      <td>1</td>\n      <td>68</td>\n      <td>1.0</td>\n      <td>1</td>\n      <td>0.0</td>\n      <td>1</td>\n      <td>0</td>\n      <td>0</td>\n      <td>Stage I</td>\n      <td>Stage I</td>\n      <td>...</td>\n      <td>-3.386203</td>\n      <td>-2.328692</td>\n      <td>-2.806642</td>\n      <td>NaN</td>\n      <td>-4.733495</td>\n      <td>-9.584499</td>\n      <td>-4.786183</td>\n      <td>-3.103949</td>\n      <td>NaN</td>\n      <td>NaN</td>\n    </tr>\n    <tr>\n      <th>E2-A158</th>\n      <td>1</td>\n      <td>43</td>\n      <td>0.0</td>\n      <td>0</td>\n      <td>0.0</td>\n      <td>1</td>\n      <td>1</td>\n      <td>0</td>\n      <td>Stage IIA</td>\n      <td>Stage IIA</td>\n      <td>...</td>\n      <td>-0.638364</td>\n      <td>0.051811</td>\n      <td>2.509998</td>\n      <td>7.067839</td>\n      <td>NaN</td>\n      <td>0.378972</td>\n      <td>NaN</td>\n      <td>NaN</td>\n      <td>0.665797</td>\n      <td>NaN</td>\n    </tr>\n    <tr>\n      <th>E2-A15A</th>\n      <td>1</td>\n      <td>45</td>\n      <td>1.0</td>\n      <td>1</td>\n      <td>0.0</td>\n      <td>2</td>\n      <td>3</td>\n      <td>0</td>\n      <td>Stage IIIC</td>\n      <td>Stage IIIC</td>\n      <td>...</td>\n      <td>1.934078</td>\n      <td>0.234132</td>\n      <td>0.949899</td>\n      <td>2.725896</td>\n      <td>NaN</td>\n      <td>-3.863634</td>\n      <td>NaN</td>\n      <td>NaN</td>\n      <td>4.072432</td>\n      <td>NaN</td>\n    </tr>\n  </tbody>\n</table>\n<p>80 rows × 12579 columns</p>\n</div>"
     },
     "execution_count": 14,
     "metadata": {},
     "output_type": "execute_result"
    }
   ],
   "source": [
    "\n",
    "clinical = pd.read_csv('data/clinical_data_breast_cancer.csv', index_col=0)\n",
    "proteomes_orig = pd.read_csv('data/77_cancer_proteomes_CPTAC_itraq.csv')\n",
    "PAM50 = pd.read_csv('data/PAM50_proteins.csv')\n",
    "proteomes = proteomes_orig.drop(['gene_symbol','gene_name'], axis=1)\n",
    "clinical.index = clinical.index.to_series().apply(lambda title : title.split('CGA-')[1])\n",
    "proteomes.rename(columns = proteomes.columns.to_series().apply(lambda title: title.split('.')[0]), inplace=True)\n",
    "\n",
    "#Transpose and organize proteomes data\n",
    "proteomes = proteomes.transpose()\n",
    "proteomes.columns =  proteomes.iloc[0]\n",
    "proteomes.drop('RefSeq_accession_number', axis=0, inplace=True)\n",
    "\n",
    "#Convert gender to numbers\n",
    "def num_gender(gender):\n",
    "    if gender == 'MALE':\n",
    "        return 0\n",
    "    elif gender == 'FEMALE':\n",
    "        return 1\n",
    "    else:\n",
    "        return float('NaN')\n",
    "\n",
    "clinical['Gender'] = clinical['Gender'].apply(lambda gender: num_gender(gender))\n",
    "\n",
    "#Convert status to numbers\n",
    "def num_status(status):\n",
    "    if status == 'Negative':\n",
    "        return 0\n",
    "    elif status == 'Positive':\n",
    "        return 1\n",
    "    else:\n",
    "        return\n",
    "\n",
    "clinical['ER Status'] = clinical['ER Status'].apply(lambda status: num_status(status))\n",
    "clinical['PR Status'] = clinical['PR Status'].apply(lambda status: num_status(status))\n",
    "clinical['HER2 Final Status'] = clinical['HER2 Final Status'].apply(lambda status: num_status(status))\n",
    "\n",
    "#Convert tumor, node, metastasis to numbers\n",
    "clinical['Tumor'] = clinical['Tumor'].apply(lambda tumor: tumor.split('T')[1])\n",
    "clinical['Node'] = clinical['Node'].apply(lambda tumor: tumor.split('N')[1])\n",
    "clinical['Metastasis'] = clinical['Metastasis'].apply(lambda tumor: tumor.split('M')[1])\n",
    "#Remove unused columns\n",
    "clinical.drop('Tumor--T1 Coded', axis=1, inplace=True)\n",
    "clinical.drop('Metastasis-Coded', axis=1, inplace=True)\n",
    "clinical.drop('Node-Coded', axis=1, inplace=True)\n",
    "\n",
    "#Merge clinical data with proteomes data\n",
    "datasetPrim = clinical.merge(proteomes, left_index=True,right_index=True)\n",
    "\n",
    "datasetPrim"
   ],
   "metadata": {
    "collapsed": false,
    "pycharm": {
     "name": "#%%\n"
    }
   }
  },
  {
   "cell_type": "code",
   "execution_count": 15,
   "outputs": [
    {
     "data": {
      "text/plain": "         AJCC Stage NP_958782 NP_958785 NP_958786 NP_000436 NP_958781  \\\nA2-A0CM   Stage IIA  0.683404  0.694424  0.698098  0.687077  0.687077   \nA2-A0D2   Stage IIB  0.107491  0.104164  0.107491  0.097512  0.104164   \nA2-A0EQ   Stage IIA  -0.91267 -0.927979 -0.927979 -0.931806 -0.927979   \nA2-A0EV    Stage IA  0.452986   0.47259   0.47259  0.458587   0.47259   \nA2-A0EX   Stage IIB  1.185108  1.192612   1.18886  1.185108  1.200116   \n...             ...       ...       ...       ...       ...       ...   \nC8-A138   Stage III  2.765081  2.779709  2.779709  2.797995  2.787023   \nD8-A142   Stage IIB  0.538596  0.542211  0.542211  0.534981  0.542211   \nE2-A154     Stage I  0.862659  0.870186  0.870186  0.866423  0.870186   \nE2-A158   Stage IIA -1.086529 -1.095492 -1.095492 -1.095492 -1.095492   \nE2-A15A  Stage IIIC  2.180123  2.180123  2.180123  2.180123  2.180123   \n\n        NP_958780 NP_958783 NP_958784 NP_112598  ... NP_001652 NP_071753  \\\nA2-A0CM  0.698098  0.698098  0.698098  -2.65215  ...   0.61728 -1.502339   \nA2-A0D2  0.104164  0.104164  0.104164 -0.880454  ...  2.136604  2.322883   \nA2-A0EQ -0.927979 -0.927979 -0.927979 -3.071151  ...  2.133697  1.643829   \nA2-A0EV   0.47259   0.47259   0.47259 -0.742871  ...  1.335175  1.884093   \nA2-A0EX   1.18886   1.18886  1.192612  1.046289  ...  2.130577    2.3782   \n...           ...       ...       ...       ...  ...       ...       ...   \nC8-A138  2.779709  2.783366  2.783366  2.205538  ... -3.426456 -1.733201   \nD8-A142  0.542211  0.542211  0.542211 -0.148205  ...  1.756763  4.352147   \nE2-A154  0.870186  0.870186  0.870186  1.920171  ...   1.64168 -0.409365   \nE2-A158 -1.093252 -1.093252 -1.093252  0.096627  ...  1.358213  0.338637   \nE2-A15A  2.180123  2.180123  2.180123  1.911711  ...  2.121967  0.515965   \n\n        NP_001294 NP_065775 NP_001094348 XP_003846524 NP_443073 NP_001004456  \\\nA2-A0CM  2.130769  1.098511    -0.819065    -0.675798  0.014823     1.550354   \nA2-A0D2  1.225166  1.777351     1.062172    -2.759878  0.154061     0.237221   \nA2-A0EQ  1.364451  2.481962     1.785431    -1.203529  0.664093     0.289037   \nA2-A0EV  2.231367  2.463817    -3.078572    -6.167635  0.842269     4.158181   \nA2-A0EX  2.509515  0.948741     0.108324    -0.743348  0.787411     3.158587   \n...           ...       ...          ...          ...       ...          ...   \nC8-A138 -0.584859  -1.18463     2.110453     1.496053 -1.718572     0.197769   \nD8-A142  2.259212  1.247085     0.835004    -1.149488  2.204991     4.070197   \nE2-A154  -1.73784 -1.116882    -1.135699    -3.694801  0.873949     4.618518   \nE2-A158  2.301601 -0.371705     1.909456     0.018198   -0.0311     0.282616   \nE2-A15A  1.025949  2.546954      0.96332     0.811219 -0.146119     -1.57318   \n\n        NP_997625 NP_003270  \nA2-A0CM -0.216608  1.032388  \nA2-A0D2  0.270485  0.456764  \nA2-A0EQ -0.047747  0.128299  \nA2-A0EV -0.160346  -2.32521  \nA2-A0EX  2.948483  2.025525  \n...           ...       ...  \nC8-A138 -2.354914 -0.354459  \nD8-A142  2.251983 -0.556671  \nE2-A154  0.636856 -0.488396  \nE2-A158 -0.400836  2.492071  \nE2-A15A -0.902148  2.215912  \n\n[80 rows x 8018 columns]",
      "text/html": "<div>\n<style scoped>\n    .dataframe tbody tr th:only-of-type {\n        vertical-align: middle;\n    }\n\n    .dataframe tbody tr th {\n        vertical-align: top;\n    }\n\n    .dataframe thead th {\n        text-align: right;\n    }\n</style>\n<table border=\"1\" class=\"dataframe\">\n  <thead>\n    <tr style=\"text-align: right;\">\n      <th></th>\n      <th>AJCC Stage</th>\n      <th>NP_958782</th>\n      <th>NP_958785</th>\n      <th>NP_958786</th>\n      <th>NP_000436</th>\n      <th>NP_958781</th>\n      <th>NP_958780</th>\n      <th>NP_958783</th>\n      <th>NP_958784</th>\n      <th>NP_112598</th>\n      <th>...</th>\n      <th>NP_001652</th>\n      <th>NP_071753</th>\n      <th>NP_001294</th>\n      <th>NP_065775</th>\n      <th>NP_001094348</th>\n      <th>XP_003846524</th>\n      <th>NP_443073</th>\n      <th>NP_001004456</th>\n      <th>NP_997625</th>\n      <th>NP_003270</th>\n    </tr>\n  </thead>\n  <tbody>\n    <tr>\n      <th>A2-A0CM</th>\n      <td>Stage IIA</td>\n      <td>0.683404</td>\n      <td>0.694424</td>\n      <td>0.698098</td>\n      <td>0.687077</td>\n      <td>0.687077</td>\n      <td>0.698098</td>\n      <td>0.698098</td>\n      <td>0.698098</td>\n      <td>-2.65215</td>\n      <td>...</td>\n      <td>0.61728</td>\n      <td>-1.502339</td>\n      <td>2.130769</td>\n      <td>1.098511</td>\n      <td>-0.819065</td>\n      <td>-0.675798</td>\n      <td>0.014823</td>\n      <td>1.550354</td>\n      <td>-0.216608</td>\n      <td>1.032388</td>\n    </tr>\n    <tr>\n      <th>A2-A0D2</th>\n      <td>Stage IIB</td>\n      <td>0.107491</td>\n      <td>0.104164</td>\n      <td>0.107491</td>\n      <td>0.097512</td>\n      <td>0.104164</td>\n      <td>0.104164</td>\n      <td>0.104164</td>\n      <td>0.104164</td>\n      <td>-0.880454</td>\n      <td>...</td>\n      <td>2.136604</td>\n      <td>2.322883</td>\n      <td>1.225166</td>\n      <td>1.777351</td>\n      <td>1.062172</td>\n      <td>-2.759878</td>\n      <td>0.154061</td>\n      <td>0.237221</td>\n      <td>0.270485</td>\n      <td>0.456764</td>\n    </tr>\n    <tr>\n      <th>A2-A0EQ</th>\n      <td>Stage IIA</td>\n      <td>-0.91267</td>\n      <td>-0.927979</td>\n      <td>-0.927979</td>\n      <td>-0.931806</td>\n      <td>-0.927979</td>\n      <td>-0.927979</td>\n      <td>-0.927979</td>\n      <td>-0.927979</td>\n      <td>-3.071151</td>\n      <td>...</td>\n      <td>2.133697</td>\n      <td>1.643829</td>\n      <td>1.364451</td>\n      <td>2.481962</td>\n      <td>1.785431</td>\n      <td>-1.203529</td>\n      <td>0.664093</td>\n      <td>0.289037</td>\n      <td>-0.047747</td>\n      <td>0.128299</td>\n    </tr>\n    <tr>\n      <th>A2-A0EV</th>\n      <td>Stage IA</td>\n      <td>0.452986</td>\n      <td>0.47259</td>\n      <td>0.47259</td>\n      <td>0.458587</td>\n      <td>0.47259</td>\n      <td>0.47259</td>\n      <td>0.47259</td>\n      <td>0.47259</td>\n      <td>-0.742871</td>\n      <td>...</td>\n      <td>1.335175</td>\n      <td>1.884093</td>\n      <td>2.231367</td>\n      <td>2.463817</td>\n      <td>-3.078572</td>\n      <td>-6.167635</td>\n      <td>0.842269</td>\n      <td>4.158181</td>\n      <td>-0.160346</td>\n      <td>-2.32521</td>\n    </tr>\n    <tr>\n      <th>A2-A0EX</th>\n      <td>Stage IIB</td>\n      <td>1.185108</td>\n      <td>1.192612</td>\n      <td>1.18886</td>\n      <td>1.185108</td>\n      <td>1.200116</td>\n      <td>1.18886</td>\n      <td>1.18886</td>\n      <td>1.192612</td>\n      <td>1.046289</td>\n      <td>...</td>\n      <td>2.130577</td>\n      <td>2.3782</td>\n      <td>2.509515</td>\n      <td>0.948741</td>\n      <td>0.108324</td>\n      <td>-0.743348</td>\n      <td>0.787411</td>\n      <td>3.158587</td>\n      <td>2.948483</td>\n      <td>2.025525</td>\n    </tr>\n    <tr>\n      <th>...</th>\n      <td>...</td>\n      <td>...</td>\n      <td>...</td>\n      <td>...</td>\n      <td>...</td>\n      <td>...</td>\n      <td>...</td>\n      <td>...</td>\n      <td>...</td>\n      <td>...</td>\n      <td>...</td>\n      <td>...</td>\n      <td>...</td>\n      <td>...</td>\n      <td>...</td>\n      <td>...</td>\n      <td>...</td>\n      <td>...</td>\n      <td>...</td>\n      <td>...</td>\n      <td>...</td>\n    </tr>\n    <tr>\n      <th>C8-A138</th>\n      <td>Stage III</td>\n      <td>2.765081</td>\n      <td>2.779709</td>\n      <td>2.779709</td>\n      <td>2.797995</td>\n      <td>2.787023</td>\n      <td>2.779709</td>\n      <td>2.783366</td>\n      <td>2.783366</td>\n      <td>2.205538</td>\n      <td>...</td>\n      <td>-3.426456</td>\n      <td>-1.733201</td>\n      <td>-0.584859</td>\n      <td>-1.18463</td>\n      <td>2.110453</td>\n      <td>1.496053</td>\n      <td>-1.718572</td>\n      <td>0.197769</td>\n      <td>-2.354914</td>\n      <td>-0.354459</td>\n    </tr>\n    <tr>\n      <th>D8-A142</th>\n      <td>Stage IIB</td>\n      <td>0.538596</td>\n      <td>0.542211</td>\n      <td>0.542211</td>\n      <td>0.534981</td>\n      <td>0.542211</td>\n      <td>0.542211</td>\n      <td>0.542211</td>\n      <td>0.542211</td>\n      <td>-0.148205</td>\n      <td>...</td>\n      <td>1.756763</td>\n      <td>4.352147</td>\n      <td>2.259212</td>\n      <td>1.247085</td>\n      <td>0.835004</td>\n      <td>-1.149488</td>\n      <td>2.204991</td>\n      <td>4.070197</td>\n      <td>2.251983</td>\n      <td>-0.556671</td>\n    </tr>\n    <tr>\n      <th>E2-A154</th>\n      <td>Stage I</td>\n      <td>0.862659</td>\n      <td>0.870186</td>\n      <td>0.870186</td>\n      <td>0.866423</td>\n      <td>0.870186</td>\n      <td>0.870186</td>\n      <td>0.870186</td>\n      <td>0.870186</td>\n      <td>1.920171</td>\n      <td>...</td>\n      <td>1.64168</td>\n      <td>-0.409365</td>\n      <td>-1.73784</td>\n      <td>-1.116882</td>\n      <td>-1.135699</td>\n      <td>-3.694801</td>\n      <td>0.873949</td>\n      <td>4.618518</td>\n      <td>0.636856</td>\n      <td>-0.488396</td>\n    </tr>\n    <tr>\n      <th>E2-A158</th>\n      <td>Stage IIA</td>\n      <td>-1.086529</td>\n      <td>-1.095492</td>\n      <td>-1.095492</td>\n      <td>-1.095492</td>\n      <td>-1.095492</td>\n      <td>-1.093252</td>\n      <td>-1.093252</td>\n      <td>-1.093252</td>\n      <td>0.096627</td>\n      <td>...</td>\n      <td>1.358213</td>\n      <td>0.338637</td>\n      <td>2.301601</td>\n      <td>-0.371705</td>\n      <td>1.909456</td>\n      <td>0.018198</td>\n      <td>-0.0311</td>\n      <td>0.282616</td>\n      <td>-0.400836</td>\n      <td>2.492071</td>\n    </tr>\n    <tr>\n      <th>E2-A15A</th>\n      <td>Stage IIIC</td>\n      <td>2.180123</td>\n      <td>2.180123</td>\n      <td>2.180123</td>\n      <td>2.180123</td>\n      <td>2.180123</td>\n      <td>2.180123</td>\n      <td>2.180123</td>\n      <td>2.180123</td>\n      <td>1.911711</td>\n      <td>...</td>\n      <td>2.121967</td>\n      <td>0.515965</td>\n      <td>1.025949</td>\n      <td>2.546954</td>\n      <td>0.96332</td>\n      <td>0.811219</td>\n      <td>-0.146119</td>\n      <td>-1.57318</td>\n      <td>-0.902148</td>\n      <td>2.215912</td>\n    </tr>\n  </tbody>\n</table>\n<p>80 rows × 8018 columns</p>\n</div>"
     },
     "execution_count": 15,
     "metadata": {},
     "output_type": "execute_result"
    }
   ],
   "source": [
    "import numpy as np\n",
    "\n",
    "noNaProteasomesColumns= np.array(datasetPrim.dropna(axis=1).columns[24:])\n",
    "columnsOfIntrest = np.insert(noNaProteasomesColumns, 0, 'AJCC Stage', axis=0)\n",
    "datasetPrim[columnsOfIntrest]"
   ],
   "metadata": {
    "collapsed": false,
    "pycharm": {
     "name": "#%%\n"
    }
   }
  },
  {
   "cell_type": "code",
   "execution_count": 16,
   "outputs": [],
   "source": [
    "#loads dataframe and apply encoder\n",
    "def load_node_csv(df, encoders=None):\n",
    "    mapping = {index: i for i, index in enumerate(df.index.unique())}\n",
    "\n",
    "    x = None\n",
    "    if encoders is not None:\n",
    "        xs = [encoder(df[col]) for col, encoder in encoders.items()]\n",
    "        x = torch.cat(xs, dim=-1)\n",
    "\n",
    "    return x, mapping\n",
    "\n",
    "#load edges based on csv ...\n",
    "def load_edge_csv( df,src_index_col, src_mapping, dst_index_col, dst_mapping,\n",
    "                  encoders=None):\n",
    "    src = [src_mapping[index] for index in df[src_index_col]]\n",
    "    dst = [dst_mapping[index] for index in df[dst_index_col]]\n",
    "    edge_index = torch.tensor([src, dst])\n",
    "    edge_attr = None\n",
    "    if encoders is not None:\n",
    "        edge_attrs = [encoder(df[col]) for col, encoder in encoders.items()]\n",
    "        edge_attr = torch.cat(edge_attrs, dim=-1)\n",
    "    return edge_index, edge_attr"
   ],
   "metadata": {
    "collapsed": false,
    "pycharm": {
     "name": "#%%\n"
    }
   }
  },
  {
   "cell_type": "code",
   "execution_count": 17,
   "outputs": [],
   "source": [
    "#can encode the sentence in this case we can use it for example for histopathological names ...\n",
    "from sentence_transformers import SentenceTransformer\n",
    "\n",
    "class SequenceEncoder(object):\n",
    "    def __init__(self, model_name='all-MiniLM-L6-v2', device=None):\n",
    "        self.device = device\n",
    "        self.model = SentenceTransformer(model_name, device=device)\n",
    "\n",
    "    @torch.no_grad()\n",
    "    def __call__(self, df):\n",
    "        x = self.model.encode(df.values, show_progress_bar=True,\n",
    "                              convert_to_tensor=True, device=self.device)\n",
    "        return x.cpu()"
   ],
   "metadata": {
    "collapsed": false,
    "pycharm": {
     "name": "#%%\n"
    }
   }
  },
  {
   "cell_type": "code",
   "execution_count": 18,
   "outputs": [
    {
     "data": {
      "text/plain": "Batches:   0%|          | 0/3 [00:00<?, ?it/s]",
      "application/vnd.jupyter.widget-view+json": {
       "version_major": 2,
       "version_minor": 0,
       "model_id": "21f6f614dc3f4f1199f2cb67b127d74b"
      }
     },
     "metadata": {},
     "output_type": "display_data"
    }
   ],
   "source": [
    "#getting mappings of variables of intrest\n",
    "AjCC_x,AjCC_mapping = load_node_csv(datasetPrim[['AJCC Stage']],encoders={\n",
    "        'AJCC Stage': SequenceEncoder()\n",
    "    } )\n",
    "proteasomes_x,proteasomes_mapping = load_node_csv(datasetPrim[noNaProteasomesColumns])\n"
   ],
   "metadata": {
    "collapsed": false,
    "pycharm": {
     "name": "#%%\n"
    }
   }
  },
  {
   "cell_type": "code",
   "execution_count": 19,
   "outputs": [
    {
     "data": {
      "text/plain": "         AJCC Stage\nA2-A0CM   Stage IIA\nA2-A0D2   Stage IIB\nA2-A0EQ   Stage IIA\nA2-A0EV    Stage IA\nA2-A0EX   Stage IIB\n...             ...\nC8-A138   Stage III\nD8-A142   Stage IIB\nE2-A154     Stage I\nE2-A158   Stage IIA\nE2-A15A  Stage IIIC\n\n[80 rows x 1 columns]",
      "text/html": "<div>\n<style scoped>\n    .dataframe tbody tr th:only-of-type {\n        vertical-align: middle;\n    }\n\n    .dataframe tbody tr th {\n        vertical-align: top;\n    }\n\n    .dataframe thead th {\n        text-align: right;\n    }\n</style>\n<table border=\"1\" class=\"dataframe\">\n  <thead>\n    <tr style=\"text-align: right;\">\n      <th></th>\n      <th>AJCC Stage</th>\n    </tr>\n  </thead>\n  <tbody>\n    <tr>\n      <th>A2-A0CM</th>\n      <td>Stage IIA</td>\n    </tr>\n    <tr>\n      <th>A2-A0D2</th>\n      <td>Stage IIB</td>\n    </tr>\n    <tr>\n      <th>A2-A0EQ</th>\n      <td>Stage IIA</td>\n    </tr>\n    <tr>\n      <th>A2-A0EV</th>\n      <td>Stage IA</td>\n    </tr>\n    <tr>\n      <th>A2-A0EX</th>\n      <td>Stage IIB</td>\n    </tr>\n    <tr>\n      <th>...</th>\n      <td>...</td>\n    </tr>\n    <tr>\n      <th>C8-A138</th>\n      <td>Stage III</td>\n    </tr>\n    <tr>\n      <th>D8-A142</th>\n      <td>Stage IIB</td>\n    </tr>\n    <tr>\n      <th>E2-A154</th>\n      <td>Stage I</td>\n    </tr>\n    <tr>\n      <th>E2-A158</th>\n      <td>Stage IIA</td>\n    </tr>\n    <tr>\n      <th>E2-A15A</th>\n      <td>Stage IIIC</td>\n    </tr>\n  </tbody>\n</table>\n<p>80 rows × 1 columns</p>\n</div>"
     },
     "execution_count": 19,
     "metadata": {},
     "output_type": "execute_result"
    }
   ],
   "source": [
    "datasetPrim[['AJCC Stage']]"
   ],
   "metadata": {
    "collapsed": false,
    "pycharm": {
     "name": "#%%\n"
    }
   }
  },
  {
   "cell_type": "code",
   "execution_count": 20,
   "outputs": [
    {
     "data": {
      "text/plain": "array(['Stage I', 'Stage IA', 'Stage IB', 'Stage II', 'Stage IIA',\n       'Stage IIB', 'Stage III', 'Stage IIIA', 'Stage IIIB', 'Stage IIIC',\n       'Stage IV'], dtype=object)"
     },
     "execution_count": 20,
     "metadata": {},
     "output_type": "execute_result"
    }
   ],
   "source": [
    "torch.tensor(np.unique(np.array(datasetPrim['AJCC Stage'])))"
   ],
   "metadata": {
    "collapsed": false,
    "pycharm": {
     "name": "#%%\n"
    }
   }
  },
  {
   "cell_type": "code",
   "execution_count": 47,
   "outputs": [
    {
     "data": {
      "text/plain": "array(['Stage I', 'Stage IA', 'Stage IB', 'Stage II', 'Stage IIA',\n       'Stage IIB', 'Stage III', 'Stage IIIA', 'Stage IIIB', 'Stage IIIC',\n       'Stage IV'], dtype=object)"
     },
     "execution_count": 47,
     "metadata": {},
     "output_type": "execute_result"
    }
   ],
   "source": [
    "np.unique(datasetPrim['AJCC Stage'].values)"
   ],
   "metadata": {
    "collapsed": false,
    "pycharm": {
     "name": "#%%\n"
    }
   }
  },
  {
   "cell_type": "code",
   "execution_count": 48,
   "outputs": [
    {
     "data": {
      "text/plain": "tensor([ 0,  1,  2,  3,  4,  5,  6,  7,  8,  9, 10])"
     },
     "execution_count": 48,
     "metadata": {},
     "output_type": "execute_result"
    }
   ],
   "source": [
    "torch.arange(11)"
   ],
   "metadata": {
    "collapsed": false,
    "pycharm": {
     "name": "#%%\n"
    }
   }
  },
  {
   "cell_type": "code",
   "execution_count": 29,
   "outputs": [
    {
     "ename": "TypeError",
     "evalue": "can't convert np.ndarray of type numpy.object_. The only supported types are: float64, float32, float16, complex64, complex128, int64, int32, int16, int8, uint8, and bool.",
     "output_type": "error",
     "traceback": [
      "\u001B[1;31m---------------------------------------------------------------------------\u001B[0m",
      "\u001B[1;31mTypeError\u001B[0m                                 Traceback (most recent call last)",
      "\u001B[1;32m~\\AppData\\Local\\Temp/ipykernel_22156/2964978079.py\u001B[0m in \u001B[0;36m<module>\u001B[1;34m\u001B[0m\n\u001B[0;32m      9\u001B[0m \u001B[1;31m# }\u001B[0m\u001B[1;33m\u001B[0m\u001B[1;33m\u001B[0m\u001B[0m\n\u001B[0;32m     10\u001B[0m \u001B[0mdata\u001B[0m \u001B[1;33m=\u001B[0m \u001B[0mHeteroData\u001B[0m\u001B[1;33m(\u001B[0m\u001B[1;33m)\u001B[0m\u001B[1;33m\u001B[0m\u001B[1;33m\u001B[0m\u001B[0m\n\u001B[1;32m---> 11\u001B[1;33m \u001B[0mdata\u001B[0m\u001B[1;33m[\u001B[0m\u001B[1;34m'proteasomes'\u001B[0m\u001B[1;33m]\u001B[0m\u001B[1;33m.\u001B[0m\u001B[0mx\u001B[0m\u001B[1;33m=\u001B[0m\u001B[0mtorch\u001B[0m\u001B[1;33m.\u001B[0m\u001B[0mtensor\u001B[0m\u001B[1;33m(\u001B[0m\u001B[0mnp\u001B[0m\u001B[1;33m.\u001B[0m\u001B[0munique\u001B[0m\u001B[1;33m(\u001B[0m\u001B[0mnp\u001B[0m\u001B[1;33m.\u001B[0m\u001B[0marray\u001B[0m\u001B[1;33m(\u001B[0m\u001B[0mdatasetPrim\u001B[0m\u001B[1;33m[\u001B[0m\u001B[1;34m'AJCC Stage'\u001B[0m\u001B[1;33m]\u001B[0m\u001B[1;33m)\u001B[0m\u001B[1;33m)\u001B[0m\u001B[1;33m)\u001B[0m\u001B[1;33m\u001B[0m\u001B[1;33m\u001B[0m\u001B[0m\n\u001B[0m\u001B[0;32m     12\u001B[0m \u001B[1;31m# data['proteasomes'].x = [len(datasetPrim),len(noNaProteasomesColumns)]\u001B[0m\u001B[1;33m\u001B[0m\u001B[1;33m\u001B[0m\u001B[0m\n\u001B[0;32m     13\u001B[0m \u001B[1;31m# data['proteasomes'].x\u001B[0m\u001B[1;33m\u001B[0m\u001B[1;33m\u001B[0m\u001B[0m\n",
      "\u001B[1;31mTypeError\u001B[0m: can't convert np.ndarray of type numpy.object_. The only supported types are: float64, float32, float16, complex64, complex128, int64, int32, int16, int8, uint8, and bool."
     ]
    }
   ],
   "source": [
    "from torch_geometric.data import HeteroData\n",
    "# hgraph = {\n",
    "#     \"proteasomes\": {\n",
    "#         \"num_nodes\": len(datasetPrim)\n",
    "#     },\n",
    "#     \"stage\":{\n",
    "#         \"num_nodes\": len(np.unique(np.array(datasetPrim['AJCC Stage'])))\n",
    "#     }\n",
    "# }\n",
    "data = HeteroData()\n",
    "data['proteasomes'].x=torch.arange(11) #11 becouse we have 11 diffrent stages\n",
    "# data['proteasomes'].x = [len(datasetPrim),len(noNaProteasomesColumns)]\n",
    "# data['proteasomes'].x\n",
    "data['proteasomes']\n",
    "# node_types, edge_types = data.metadata()\n",
    "# node_types, edge_types"
   ],
   "metadata": {
    "collapsed": false,
    "pycharm": {
     "name": "#%%\n"
    }
   }
  },
  {
   "cell_type": "code",
   "execution_count": 27,
   "outputs": [
    {
     "ename": "AttributeError",
     "evalue": "'BaseStorage' object has no attribute 'todict'",
     "output_type": "error",
     "traceback": [
      "\u001B[1;31m---------------------------------------------------------------------------\u001B[0m",
      "\u001B[1;31mKeyError\u001B[0m                                  Traceback (most recent call last)",
      "\u001B[1;32mc:\\users\\1\\pycharmprojects\\pythonproject4\\venv\\lib\\site-packages\\torch_geometric\\data\\storage.py\u001B[0m in \u001B[0;36m__getattr__\u001B[1;34m(self, key)\u001B[0m\n\u001B[0;32m     47\u001B[0m         \u001B[1;32mtry\u001B[0m\u001B[1;33m:\u001B[0m\u001B[1;33m\u001B[0m\u001B[1;33m\u001B[0m\u001B[0m\n\u001B[1;32m---> 48\u001B[1;33m             \u001B[1;32mreturn\u001B[0m \u001B[0mself\u001B[0m\u001B[1;33m[\u001B[0m\u001B[0mkey\u001B[0m\u001B[1;33m]\u001B[0m\u001B[1;33m\u001B[0m\u001B[1;33m\u001B[0m\u001B[0m\n\u001B[0m\u001B[0;32m     49\u001B[0m         \u001B[1;32mexcept\u001B[0m \u001B[0mKeyError\u001B[0m\u001B[1;33m:\u001B[0m\u001B[1;33m\u001B[0m\u001B[1;33m\u001B[0m\u001B[0m\n",
      "\u001B[1;32mc:\\users\\1\\pycharmprojects\\pythonproject4\\venv\\lib\\site-packages\\torch_geometric\\data\\storage.py\u001B[0m in \u001B[0;36m__getitem__\u001B[1;34m(self, key)\u001B[0m\n\u001B[0;32m     67\u001B[0m     \u001B[1;32mdef\u001B[0m \u001B[0m__getitem__\u001B[0m\u001B[1;33m(\u001B[0m\u001B[0mself\u001B[0m\u001B[1;33m,\u001B[0m \u001B[0mkey\u001B[0m\u001B[1;33m:\u001B[0m \u001B[0mstr\u001B[0m\u001B[1;33m)\u001B[0m \u001B[1;33m->\u001B[0m \u001B[0mAny\u001B[0m\u001B[1;33m:\u001B[0m\u001B[1;33m\u001B[0m\u001B[1;33m\u001B[0m\u001B[0m\n\u001B[1;32m---> 68\u001B[1;33m         \u001B[1;32mreturn\u001B[0m \u001B[0mself\u001B[0m\u001B[1;33m.\u001B[0m\u001B[0m_mapping\u001B[0m\u001B[1;33m[\u001B[0m\u001B[0mkey\u001B[0m\u001B[1;33m]\u001B[0m\u001B[1;33m\u001B[0m\u001B[1;33m\u001B[0m\u001B[0m\n\u001B[0m\u001B[0;32m     69\u001B[0m \u001B[1;33m\u001B[0m\u001B[0m\n",
      "\u001B[1;31mKeyError\u001B[0m: 'todict'",
      "\nDuring handling of the above exception, another exception occurred:\n",
      "\u001B[1;31mAttributeError\u001B[0m                            Traceback (most recent call last)",
      "\u001B[1;32m~\\AppData\\Local\\Temp/ipykernel_22156/870667442.py\u001B[0m in \u001B[0;36m<module>\u001B[1;34m\u001B[0m\n\u001B[0;32m      8\u001B[0m \u001B[0mdata\u001B[0m\u001B[1;33m.\u001B[0m\u001B[0mx_dict\u001B[0m\u001B[1;33m\u001B[0m\u001B[1;33m\u001B[0m\u001B[0m\n\u001B[0;32m      9\u001B[0m \u001B[1;31m# data.metadata()\u001B[0m\u001B[1;33m\u001B[0m\u001B[1;33m\u001B[0m\u001B[0m\n\u001B[1;32m---> 10\u001B[1;33m \u001B[0mdata\u001B[0m\u001B[1;33m.\u001B[0m\u001B[0mtodict\u001B[0m\u001B[1;33m(\u001B[0m\u001B[1;33m)\u001B[0m\u001B[1;33m\u001B[0m\u001B[1;33m\u001B[0m\u001B[0m\n\u001B[0m",
      "\u001B[1;32mc:\\users\\1\\pycharmprojects\\pythonproject4\\venv\\lib\\site-packages\\torch_geometric\\data\\hetero_data.py\u001B[0m in \u001B[0;36m__getattr__\u001B[1;34m(self, key)\u001B[0m\n\u001B[0;32m    116\u001B[0m             \u001B[1;32mif\u001B[0m \u001B[0mlen\u001B[0m\u001B[1;33m(\u001B[0m\u001B[0mout\u001B[0m\u001B[1;33m)\u001B[0m \u001B[1;33m>\u001B[0m \u001B[1;36m0\u001B[0m\u001B[1;33m:\u001B[0m\u001B[1;33m\u001B[0m\u001B[1;33m\u001B[0m\u001B[0m\n\u001B[0;32m    117\u001B[0m                 \u001B[1;32mreturn\u001B[0m \u001B[0mout\u001B[0m\u001B[1;33m\u001B[0m\u001B[1;33m\u001B[0m\u001B[0m\n\u001B[1;32m--> 118\u001B[1;33m         \u001B[1;32mreturn\u001B[0m \u001B[0mgetattr\u001B[0m\u001B[1;33m(\u001B[0m\u001B[0mself\u001B[0m\u001B[1;33m.\u001B[0m\u001B[0m_global_store\u001B[0m\u001B[1;33m,\u001B[0m \u001B[0mkey\u001B[0m\u001B[1;33m)\u001B[0m\u001B[1;33m\u001B[0m\u001B[1;33m\u001B[0m\u001B[0m\n\u001B[0m\u001B[0;32m    119\u001B[0m \u001B[1;33m\u001B[0m\u001B[0m\n\u001B[0;32m    120\u001B[0m     \u001B[1;32mdef\u001B[0m \u001B[0m__setattr__\u001B[0m\u001B[1;33m(\u001B[0m\u001B[0mself\u001B[0m\u001B[1;33m,\u001B[0m \u001B[0mkey\u001B[0m\u001B[1;33m:\u001B[0m \u001B[0mstr\u001B[0m\u001B[1;33m,\u001B[0m \u001B[0mvalue\u001B[0m\u001B[1;33m:\u001B[0m \u001B[0mAny\u001B[0m\u001B[1;33m)\u001B[0m\u001B[1;33m:\u001B[0m\u001B[1;33m\u001B[0m\u001B[1;33m\u001B[0m\u001B[0m\n",
      "\u001B[1;32mc:\\users\\1\\pycharmprojects\\pythonproject4\\venv\\lib\\site-packages\\torch_geometric\\data\\storage.py\u001B[0m in \u001B[0;36m__getattr__\u001B[1;34m(self, key)\u001B[0m\n\u001B[0;32m     48\u001B[0m             \u001B[1;32mreturn\u001B[0m \u001B[0mself\u001B[0m\u001B[1;33m[\u001B[0m\u001B[0mkey\u001B[0m\u001B[1;33m]\u001B[0m\u001B[1;33m\u001B[0m\u001B[1;33m\u001B[0m\u001B[0m\n\u001B[0;32m     49\u001B[0m         \u001B[1;32mexcept\u001B[0m \u001B[0mKeyError\u001B[0m\u001B[1;33m:\u001B[0m\u001B[1;33m\u001B[0m\u001B[1;33m\u001B[0m\u001B[0m\n\u001B[1;32m---> 50\u001B[1;33m             raise AttributeError(\n\u001B[0m\u001B[0;32m     51\u001B[0m                 f\"'{self.__class__.__name__}' object has no attribute '{key}'\")\n\u001B[0;32m     52\u001B[0m \u001B[1;33m\u001B[0m\u001B[0m\n",
      "\u001B[1;31mAttributeError\u001B[0m: 'BaseStorage' object has no attribute 'todict'"
     ]
    }
   ],
   "source": [
    "#helper example from https://github.com/www602/RD_GAT/blob/05b904c1d3477a91a6d2f7c92515c3fc3e4f4d52/3.metapath2vec/1.AMiner2Vec.py\n",
    "from torch_geometric.data import HeteroData\n",
    "\n",
    "data = HeteroData(hgraph)\n",
    "data['aa'].z = torch.tensor([1,2,3])\n",
    "data['aa'].x = torch.tensor([1,2,3])\n",
    "data.z_dict\n",
    "data.x_dict\n",
    "# data.metadata()"
   ],
   "metadata": {
    "collapsed": false,
    "pycharm": {
     "name": "#%%\n"
    }
   }
  },
  {
   "cell_type": "code",
   "execution_count": 23,
   "outputs": [
    {
     "ename": "TypeError",
     "evalue": "'HeteroData' object is not callable",
     "output_type": "error",
     "traceback": [
      "\u001B[1;31m---------------------------------------------------------------------------\u001B[0m",
      "\u001B[1;31mTypeError\u001B[0m                                 Traceback (most recent call last)",
      "\u001B[1;32m~\\AppData\\Local\\Temp/ipykernel_22156/3565865110.py\u001B[0m in \u001B[0;36m<module>\u001B[1;34m\u001B[0m\n\u001B[0;32m     12\u001B[0m \u001B[1;32mfrom\u001B[0m \u001B[0mtorch_geometric\u001B[0m\u001B[1;33m.\u001B[0m\u001B[0mutils\u001B[0m \u001B[1;32mimport\u001B[0m \u001B[0mto_networkx\u001B[0m\u001B[1;33m\u001B[0m\u001B[1;33m\u001B[0m\u001B[0m\n\u001B[0;32m     13\u001B[0m \u001B[1;33m\u001B[0m\u001B[0m\n\u001B[1;32m---> 14\u001B[1;33m \u001B[0mG\u001B[0m \u001B[1;33m=\u001B[0m \u001B[0mto_networkx\u001B[0m\u001B[1;33m(\u001B[0m\u001B[0mdata\u001B[0m\u001B[1;33m)\u001B[0m\u001B[1;33m\u001B[0m\u001B[1;33m\u001B[0m\u001B[0m\n\u001B[0m\u001B[0;32m     15\u001B[0m \u001B[0mvisualize_graph\u001B[0m\u001B[1;33m(\u001B[0m\u001B[0mG\u001B[0m\u001B[1;33m)\u001B[0m\u001B[1;33m\u001B[0m\u001B[1;33m\u001B[0m\u001B[0m\n",
      "\u001B[1;32mc:\\users\\1\\pycharmprojects\\pythonproject4\\venv\\lib\\site-packages\\torch_geometric\\utils\\convert.py\u001B[0m in \u001B[0;36mto_networkx\u001B[1;34m(data, node_attrs, edge_attrs, to_undirected, remove_self_loops)\u001B[0m\n\u001B[0;32m     83\u001B[0m \u001B[1;33m\u001B[0m\u001B[0m\n\u001B[0;32m     84\u001B[0m     \u001B[0mvalues\u001B[0m \u001B[1;33m=\u001B[0m \u001B[1;33m{\u001B[0m\u001B[1;33m}\u001B[0m\u001B[1;33m\u001B[0m\u001B[1;33m\u001B[0m\u001B[0m\n\u001B[1;32m---> 85\u001B[1;33m     \u001B[1;32mfor\u001B[0m \u001B[0mkey\u001B[0m\u001B[1;33m,\u001B[0m \u001B[0mitem\u001B[0m \u001B[1;32min\u001B[0m \u001B[0mdata\u001B[0m\u001B[1;33m(\u001B[0m\u001B[1;33m*\u001B[0m\u001B[1;33m(\u001B[0m\u001B[0mnode_attrs\u001B[0m \u001B[1;33m+\u001B[0m \u001B[0medge_attrs\u001B[0m\u001B[1;33m)\u001B[0m\u001B[1;33m)\u001B[0m\u001B[1;33m:\u001B[0m\u001B[1;33m\u001B[0m\u001B[1;33m\u001B[0m\u001B[0m\n\u001B[0m\u001B[0;32m     86\u001B[0m         \u001B[1;32mif\u001B[0m \u001B[0mtorch\u001B[0m\u001B[1;33m.\u001B[0m\u001B[0mis_tensor\u001B[0m\u001B[1;33m(\u001B[0m\u001B[0mitem\u001B[0m\u001B[1;33m)\u001B[0m\u001B[1;33m:\u001B[0m\u001B[1;33m\u001B[0m\u001B[1;33m\u001B[0m\u001B[0m\n\u001B[0;32m     87\u001B[0m             \u001B[0mvalues\u001B[0m\u001B[1;33m[\u001B[0m\u001B[0mkey\u001B[0m\u001B[1;33m]\u001B[0m \u001B[1;33m=\u001B[0m \u001B[0mitem\u001B[0m\u001B[1;33m.\u001B[0m\u001B[0msqueeze\u001B[0m\u001B[1;33m(\u001B[0m\u001B[1;33m)\u001B[0m\u001B[1;33m.\u001B[0m\u001B[0mtolist\u001B[0m\u001B[1;33m(\u001B[0m\u001B[1;33m)\u001B[0m\u001B[1;33m\u001B[0m\u001B[1;33m\u001B[0m\u001B[0m\n",
      "\u001B[1;31mTypeError\u001B[0m: 'HeteroData' object is not callable"
     ]
    }
   ],
   "source": [
    "import torch\n",
    "import networkx as nx\n",
    "import matplotlib.pyplot as plt\n",
    "\n",
    "def visualize_graph(G, color):\n",
    "    plt.figure(figsize=(7,7))\n",
    "    plt.xticks([])\n",
    "    plt.yticks([])\n",
    "    nx.draw_networkx(G, pos=nx.spring_layout(G, seed=42), with_labels=False,\n",
    "                     node_color=color, cmap=\"Set2\")\n",
    "    plt.show()\n",
    "from torch_geometric.utils import to_networkx\n",
    "\n",
    "G = to_networkx(data)\n",
    "visualize_graph(G)"
   ],
   "metadata": {
    "collapsed": false,
    "pycharm": {
     "name": "#%%\n"
    }
   }
  },
  {
   "cell_type": "code",
   "execution_count": 25,
   "outputs": [],
   "source": [
    "authors = torch.rand((10,8))\n",
    "papers = torch.rand((20,4))\n",
    "authors_y = torch.rand(10).round()"
   ],
   "metadata": {
    "collapsed": false,
    "pycharm": {
     "name": "#%%\n"
    }
   }
  },
  {
   "cell_type": "code",
   "execution_count": null,
   "outputs": [],
   "source": [
    "\n",
    "\n",
    "\n",
    "\n",
    "\n",
    "\n",
    "\n",
    "class SequenceEncoder(object):\n",
    "    # The 'SequenceEncoder' encodes raw column strings into embeddings.\n",
    "    def __init__(self, model_name='all-MiniLM-L6-v2', device=None):\n",
    "        self.device = device\n",
    "        self.model = SentenceTransformer(model_name, device=device)\n",
    "\n",
    "    @torch.no_grad()\n",
    "    def __call__(self, df):\n",
    "        x = self.model.encode(df.values, show_progress_bar=True,\n",
    "                              convert_to_tensor=True, device=self.device)\n",
    "        return x.cpu()\n",
    "\n",
    "\n",
    "class GenresEncoder(object):\n",
    "    # The 'GenreEncoder' splits the raw column strings by 'sep' and converts\n",
    "    # individual elements to categorical labels.\n",
    "    def __init__(self, sep='|'):\n",
    "        self.sep = sep\n",
    "\n",
    "    def __call__(self, df):\n",
    "        genres = set(g for col in df.values for g in col.split(self.sep))\n",
    "        mapping = {genre: i for i, genre in enumerate(genres)}\n",
    "\n",
    "        x = torch.zeros(len(df), len(mapping))\n",
    "        for i, col in enumerate(df.values):\n",
    "            for genre in col.split(self.sep):\n",
    "                x[i, mapping[genre]] = 1\n",
    "        return x\n",
    "\n",
    "\n",
    "class IdentityEncoder(object):\n",
    "    # The 'IdentityEncoder' takes the raw column values and converts them to\n",
    "    # PyTorch tensors.\n",
    "    def __init__(self, dtype=None):\n",
    "        self.dtype = dtype\n",
    "\n",
    "    def __call__(self, df):\n",
    "        return torch.from_numpy(df.values).view(-1, 1).to(self.dtype)\n",
    "\n",
    "\n",
    "user_x, user_mapping = load_node_csv(rating_path, index_col='userId')\n",
    "\n",
    "movie_x, movie_mapping = load_node_csv(\n",
    "    movie_path, index_col='movieId', encoders={\n",
    "        'title': SequenceEncoder(),\n",
    "        'genres': GenresEncoder()\n",
    "    })\n",
    "\n",
    "edge_index, edge_label = load_edge_csv(\n",
    "    rating_path,\n",
    "    src_index_col='userId',\n",
    "    src_mapping=user_mapping,\n",
    "    dst_index_col='movieId',\n",
    "    dst_mapping=movie_mapping,\n",
    "    encoders={'rating': IdentityEncoder(dtype=torch.long)},\n",
    ")\n",
    "\n",
    "data = HeteroData()\n",
    "data['user'].num_nodes = len(user_mapping)  # Users do not have any features.\n",
    "data['movie'].x = movie_x\n",
    "data['user', 'rates', 'movie'].edge_index = edge_index\n",
    "data['user', 'rates', 'movie'].edge_label = edge_label\n",
    "print(data)\n",
    "\n",
    "# We can now convert `data` into an appropriate format for training a\n",
    "# graph-based machine learning model:\n",
    "\n",
    "# 1. Add a reverse ('movie', 'rev_rates', 'user') relation for message passing.\n",
    "data = ToUndirected()(data)\n",
    "del data['movie', 'rev_rates', 'user'].edge_label  # Remove \"reverse\" label.\n",
    "\n",
    "# 2. Perform a link-level split into training, validation, and test edges.\n",
    "transform = RandomLinkSplit(\n",
    "    num_val=0.05,\n",
    "    num_test=0.1,\n",
    "    neg_sampling_ratio=0.0,\n",
    "    edge_types=[('user', 'rates', 'movie')],\n",
    "    rev_edge_types=[('movie', 'rev_rates', 'user')],\n",
    ")\n",
    "train_data, val_data, test_data = transform(data)\n",
    "print(train_data)\n",
    "print(val_data)\n",
    "print(test_data)"
   ],
   "metadata": {
    "collapsed": false,
    "pycharm": {
     "name": "#%%\n"
    }
   }
  }
 ],
 "metadata": {
  "kernelspec": {
   "display_name": "Python 3",
   "language": "python",
   "name": "python3"
  },
  "language_info": {
   "codemirror_mode": {
    "name": "ipython",
    "version": 2
   },
   "file_extension": ".py",
   "mimetype": "text/x-python",
   "name": "python",
   "nbconvert_exporter": "python",
   "pygments_lexer": "ipython2",
   "version": "2.7.6"
  }
 },
 "nbformat": 4,
 "nbformat_minor": 0
}